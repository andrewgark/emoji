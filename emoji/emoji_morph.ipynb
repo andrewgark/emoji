{
 "cells": [
  {
   "cell_type": "code",
   "execution_count": 1,
   "metadata": {
    "collapsed": false,
    "deletable": true,
    "editable": true
   },
   "outputs": [],
   "source": [
    "from sklearn.linear_model import LogisticRegression\n",
    "from sklearn.ensemble import RandomForestClassifier\n",
    "from sklearn.feature_extraction.text import HashingVectorizer\n",
    "from sklearn.model_selection import cross_val_score, StratifiedKFold\n",
    "from sklearn.metrics import roc_curve, auc\n",
    "from sklearn.svm import SVC\n",
    "from scipy.sparse import lil_matrix\n",
    "from scipy import interp\n",
    "from itertools import cycle\n",
    "import numpy as np\n",
    "import pandas as pd\n",
    "import matplotlib.pyplot as plt\n",
    "import re"
   ]
  },
  {
   "cell_type": "markdown",
   "metadata": {
    "deletable": true,
    "editable": true
   },
   "source": [
    "# 0) Приведем данные к норм формату, удалим повторяющиеся строки"
   ]
  },
  {
   "cell_type": "code",
   "execution_count": 2,
   "metadata": {
    "collapsed": true,
    "deletable": true,
    "editable": true
   },
   "outputs": [],
   "source": [
    "fin = open(\"parse_date_morph.txt\", \"r\")\n",
    "fout = open(\"data_morph.txt\", \"w\")"
   ]
  },
  {
   "cell_type": "code",
   "execution_count": 3,
   "metadata": {
    "collapsed": false,
    "deletable": true,
    "editable": true
   },
   "outputs": [
    {
     "name": "stdout",
     "output_type": "stream",
     "text": [
      "57586\n",
      "53984\n",
      "unicorn_thunder74,[на%на%PREP] [подъезде%подъезд%NOUN] [нашего%наш%ADJF] [дома%дом%NOUN] [миша%миша%NOUN] [аж%аж%CONJ] [сигаретой%сигарета%NOUN] [подавился%подавиться%VERB] ,P\n",
      "\n"
     ]
    }
   ],
   "source": [
    "text2 = []\n",
    "for s in fin.readlines():\n",
    "    new_s = s\n",
    "    indexes_coma = []\n",
    "    for i, c in enumerate(s):\n",
    "        if c == \",\":\n",
    "            indexes_coma.append(i)\n",
    "    for i in indexes_coma[1:-1]:\n",
    "        new_s = new_s[:i] + '%' + new_s[i + 1:]\n",
    "    text2.append(new_s)\n",
    "print(len(text2))\n",
    "text2 = list(set(text2))\n",
    "print(len(text2))\n",
    "print(text2[0])"
   ]
  },
  {
   "cell_type": "code",
   "execution_count": 4,
   "metadata": {
    "collapsed": false,
    "deletable": true,
    "editable": true
   },
   "outputs": [
    {
     "data": {
      "text/plain": [
       "9071774"
      ]
     },
     "execution_count": 4,
     "metadata": {},
     "output_type": "execute_result"
    }
   ],
   "source": [
    "fout.write(\"user,sentence,y\\n\" + ''.join(text2))"
   ]
  },
  {
   "cell_type": "code",
   "execution_count": 5,
   "metadata": {
    "collapsed": true,
    "deletable": true,
    "editable": true
   },
   "outputs": [],
   "source": [
    "fin.close()\n",
    "fout.close()"
   ]
  },
  {
   "cell_type": "markdown",
   "metadata": {
    "deletable": true,
    "editable": true
   },
   "source": [
    "# 1) Загрузим данные"
   ]
  },
  {
   "cell_type": "code",
   "execution_count": 6,
   "metadata": {
    "collapsed": false,
    "deletable": true,
    "editable": true
   },
   "outputs": [
    {
     "data": {
      "text/html": [
       "<div>\n",
       "<table border=\"1\" class=\"dataframe\">\n",
       "  <thead>\n",
       "    <tr style=\"text-align: right;\">\n",
       "      <th></th>\n",
       "      <th>user</th>\n",
       "      <th>sentence</th>\n",
       "      <th>y</th>\n",
       "    </tr>\n",
       "  </thead>\n",
       "  <tbody>\n",
       "    <tr>\n",
       "      <th>0</th>\n",
       "      <td>unicorn_thunder74</td>\n",
       "      <td>[на%на%PREP] [подъезде%подъезд%NOUN] [нашего%н...</td>\n",
       "      <td>P</td>\n",
       "    </tr>\n",
       "    <tr>\n",
       "      <th>1</th>\n",
       "      <td>__gusenova_</td>\n",
       "      <td>[какая%какой%ADJF] [красота%красота%NOUN]</td>\n",
       "      <td>P</td>\n",
       "    </tr>\n",
       "    <tr>\n",
       "      <th>2</th>\n",
       "      <td>diamonte_showroom_armenia</td>\n",
       "      <td>[сколько%сколько%CONJ]</td>\n",
       "      <td>P</td>\n",
       "    </tr>\n",
       "    <tr>\n",
       "      <th>3</th>\n",
       "      <td>____rimmulya____</td>\n",
       "      <td>[тина%тина%NOUN]</td>\n",
       "      <td>P</td>\n",
       "    </tr>\n",
       "    <tr>\n",
       "      <th>4</th>\n",
       "      <td>thekatetrump</td>\n",
       "      <td>[это%это%PRCL] [был%быть%VERB] [круто%круто%AD...</td>\n",
       "      <td>P</td>\n",
       "    </tr>\n",
       "  </tbody>\n",
       "</table>\n",
       "</div>"
      ],
      "text/plain": [
       "                        user  \\\n",
       "0          unicorn_thunder74   \n",
       "1                __gusenova_   \n",
       "2  diamonte_showroom_armenia   \n",
       "3           ____rimmulya____   \n",
       "4               thekatetrump   \n",
       "\n",
       "                                            sentence  y  \n",
       "0  [на%на%PREP] [подъезде%подъезд%NOUN] [нашего%н...  P  \n",
       "1         [какая%какой%ADJF] [красота%красота%NOUN]   P  \n",
       "2                            [сколько%сколько%CONJ]   P  \n",
       "3                                  [тина%тина%NOUN]   P  \n",
       "4  [это%это%PRCL] [был%быть%VERB] [круто%круто%AD...  P  "
      ]
     },
     "execution_count": 6,
     "metadata": {},
     "output_type": "execute_result"
    }
   ],
   "source": [
    "data = pd.read_csv(\"data_morph.txt\")\n",
    "data.head()"
   ]
  },
  {
   "cell_type": "markdown",
   "metadata": {
    "deletable": true,
    "editable": true
   },
   "source": [
    "# 2) Преобразуем их в признаки"
   ]
  },
  {
   "cell_type": "code",
   "execution_count": 7,
   "metadata": {
    "collapsed": false,
    "deletable": true,
    "editable": true
   },
   "outputs": [],
   "source": [
    "def get_words_and_bigrams(sentences):\n",
    "    set_words_form = set()\n",
    "    set_words_lemma = set()\n",
    "    set_bigrams_form = set()\n",
    "    set_bigrams_lemma = set()\n",
    "    set_bigrams_all_lemma = set()\n",
    "    for sentence in sentences:\n",
    "        last_word = ''\n",
    "        for word in sentence.strip().split():\n",
    "            form, lemma, pos = word[1:-1].split('%')\n",
    "            if pos != \"None\":\n",
    "                set_words_form.add((form,))\n",
    "                set_words_lemma.add((lemma,pos,))\n",
    "                if last_word:\n",
    "                    set_bigrams_form.add((last_word[0], pos,))\n",
    "                    set_bigrams_lemma.add((last_word[1], pos,))\n",
    "                    set_bigrams_form.add((last_word[1][1], form,))\n",
    "                    set_bigrams_lemma.add((last_word[1][1], (lemma,pos,)))\n",
    "                    set_bigrams_all_lemma.add((last_word[1], (lemma,pos,)))\n",
    "                last_word = (form, (lemma,pos,))\n",
    "            else:\n",
    "                last_word = ''\n",
    "    list_words_form, list_words_lemma, list_bigrams_form, list_bigrams_lemma, list_bigrams_all_lemma = (list(set_words_form), list(set_words_lemma), list(set_bigrams_form), list(set_bigrams_lemma), list(set_bigrams_all_lemma))\n",
    "    dict_words_form = {word: i  for i, word in enumerate(list_words_form)}\n",
    "    dict_words_lemma = {word: i  for i, word in enumerate(list_words_lemma)}\n",
    "    dict_bigrams_form = {word: i  for i, word in enumerate(list_bigrams_form)}\n",
    "    dict_bigrams_lemma = {word: i  for i, word in enumerate(list_bigrams_lemma)}\n",
    "    dict_bigrams_all_lemma = {word: i  for i, word in enumerate(list_bigrams_all_lemma)}\n",
    "    return list_words_form, list_words_lemma, list_bigrams_form, list_bigrams_lemma, list_bigrams_all_lemma, dict_words_form, dict_words_lemma, dict_bigrams_form, dict_bigrams_lemma, dict_bigrams_all_lemma\n",
    "    \n",
    "def make_table(users, sentences, y):\n",
    "    list_words_form, list_words_lemma, list_bigrams_form, list_bigrams_lemma, list_bigrams_all_lemma, dict_words_form, dict_words_lemma, dict_bigrams_form, dict_bigrams_lemma, dict_bigrams_all_lemma = get_words_and_bigrams(sentences)\n",
    "    matrix_words_form = lil_matrix((len(sentences), len(list_words_form)))\n",
    "    matrix_words_lemma = lil_matrix((len(sentences), len(list_words_lemma)))\n",
    "    matrix_bigrams_form = lil_matrix((len(sentences), len(list_bigrams_form)))\n",
    "    matrix_bigrams_lemma = lil_matrix((len(sentences), len(list_bigrams_lemma)))\n",
    "    matrix_bigrams_all_lemma = lil_matrix((len(sentences), len(list_bigrams_all_lemma)))\n",
    "    stat_words_form = np.array([[0, 0, set()] for x in list_words_form])\n",
    "    stat_words_lemma = np.array([[0, 0, set()] for x in list_words_lemma])\n",
    "    stat_bigrams_form = np.array([[0, 0, set()] for x in list_bigrams_form])\n",
    "    stat_bigrams_lemma = np.array([[0, 0, set()] for x in list_bigrams_lemma])\n",
    "    stat_bigrams_all_lemma = np.array([[0, 0, set()] for x in list_bigrams_all_lemma])\n",
    "    for i, sentence in enumerate(sentences):\n",
    "        last_word = ''\n",
    "        for word in sentence.strip().split():\n",
    "            form, lemma, pos = word[1:-1].split('%')\n",
    "            if pos != \"None\":\n",
    "                matrix_words_form[i, dict_words_form[(form,)]] += 1\n",
    "                matrix_words_lemma[i, dict_words_lemma[(lemma,pos,)]] += 1\n",
    "                stat_words_form[dict_words_form[(form,)]][0 if y[i] == 1 else 1] += 1\n",
    "                stat_words_lemma[dict_words_lemma[(lemma,pos,)]][0 if y[i] == 1 else 1] += 1\n",
    "                stat_words_form[dict_words_form[(form,)]][2].add(users[i])\n",
    "                stat_words_lemma[dict_words_lemma[(lemma,pos,)]][2].add(users[i])\n",
    "                if last_word:\n",
    "                    matrix_bigrams_form[i, dict_bigrams_form[(last_word[0], pos,)]] += 1\n",
    "                    matrix_bigrams_lemma[i, dict_bigrams_lemma[(last_word[1], pos,)]] += 1\n",
    "                    matrix_bigrams_form[i, dict_bigrams_form[(last_word[1][1], form)]] += 1\n",
    "                    matrix_bigrams_lemma[i, dict_bigrams_lemma[(last_word[1][1], (lemma,pos,),)]] += 1\n",
    "                    matrix_bigrams_all_lemma[i, dict_bigrams_all_lemma[(last_word[1], (lemma,pos,),)]] += 1\n",
    "                    stat_bigrams_form[dict_bigrams_form[(last_word[0], pos,)]][0 if y[i] == 1 else 1] += 1\n",
    "                    stat_bigrams_lemma[dict_bigrams_lemma[(last_word[1], pos,)]][0 if y[i] == 1 else 1] += 1\n",
    "                    stat_bigrams_form[dict_bigrams_form[(last_word[0], pos,)]][2].add(users[i])\n",
    "                    stat_bigrams_lemma[dict_bigrams_lemma[(last_word[1], pos,)]][2].add(users[i])\n",
    "                    stat_bigrams_form[dict_bigrams_form[(last_word[1][1], form)]][0 if y[i] == 1 else 1] += 1\n",
    "                    stat_bigrams_lemma[dict_bigrams_lemma[(last_word[1][1], (lemma,pos,))]][0 if y[i] == 1 else 1] += 1\n",
    "                    stat_bigrams_form[dict_bigrams_form[(last_word[1][1], form)]][2].add(users[i])\n",
    "                    stat_bigrams_lemma[dict_bigrams_lemma[(last_word[1][1], (lemma,pos,))]][2].add(users[i])\n",
    "                    stat_bigrams_all_lemma[dict_bigrams_all_lemma[(last_word[1], (lemma,pos,))]][0 if y[i] == 1 else 1] += 1\n",
    "                    stat_bigrams_all_lemma[dict_bigrams_all_lemma[(last_word[1], (lemma,pos,))]][2].add(users[i])                    \n",
    "                last_word = (form, (lemma, pos))\n",
    "            else:\n",
    "                last_word = ''\n",
    "    stat_words_form = np.array([(x[0], x[1], len(x[2])) for x in stat_words_form])\n",
    "    stat_words_lemma = np.array([(x[0], x[1], len(x[2])) for x in stat_words_lemma])\n",
    "    stat_bigrams_form = np.array([(x[0], x[1], len(x[2])) for x in stat_bigrams_form])\n",
    "    stat_bigrams_lemma = np.array([(x[0], x[1], len(x[2])) for x in stat_bigrams_lemma])\n",
    "    stat_bigrams_all_lemma = np.array([(x[0], x[1], len(x[2])) for x in stat_bigrams_all_lemma])\n",
    "    return matrix_words_form, matrix_words_lemma, matrix_bigrams_form, matrix_bigrams_lemma, matrix_bigrams_all_lemma, list_words_form, list_words_lemma, list_bigrams_form, list_bigrams_lemma, list_bigrams_all_lemma, dict_words_form, dict_words_lemma, dict_bigrams_form, dict_bigrams_lemma, dict_bigrams_all_lemma, stat_words_form, stat_words_lemma, stat_bigrams_form, stat_bigrams_lemma, stat_bigrams_all_lemma\n"
   ]
  },
  {
   "cell_type": "code",
   "execution_count": 8,
   "metadata": {
    "collapsed": false,
    "deletable": true,
    "editable": true
   },
   "outputs": [],
   "source": [
    "y = np.array([1 if x == 'P' else -1 for x in data['y']])"
   ]
  },
  {
   "cell_type": "code",
   "execution_count": 9,
   "metadata": {
    "collapsed": false,
    "deletable": true,
    "editable": true
   },
   "outputs": [],
   "source": [
    "matrix_words_form, matrix_words_lemma, matrix_bigrams_form, matrix_bigrams_lemma, matrix_bigrams_all_lemma, list_words_form, list_words_lemma, list_bigrams_form, list_bigrams_lemma, list_bigrams_all_lemma, dict_words_form, dict_words_lemma, dict_bigrams_form, dict_bigrams_lemma, dict_bigrams_all_lemma, stat_words_form, stat_words_lemma, stat_bigrams_form, stat_bigrams_lemma, stat_bigrams_all_lemma = make_table(data['user'], data['sentence'], y)"
   ]
  },
  {
   "cell_type": "markdown",
   "metadata": {
    "deletable": true,
    "editable": true
   },
   "source": [
    "# 3) Теперь будем запускать алгоритм логистичекой регрессии, чтобы восстанавливать y по матрицам (4 разные матрицы).\n",
    "## Будем максимизировать метрику ROC-AUC на кросс-валидации, чтобы подобрать оптимальный коэффициент C."
   ]
  },
  {
   "cell_type": "code",
   "execution_count": 10,
   "metadata": {
    "collapsed": false,
    "deletable": true,
    "editable": true
   },
   "outputs": [],
   "source": [
    "def cross_val_roc_auc(classifier, X, y):\n",
    "    cv = StratifiedKFold(n_splits=6)\n",
    "\n",
    "    mean_tpr = 0.0\n",
    "    mean_fpr = np.linspace(0, 1, 100)\n",
    "\n",
    "    colors = cycle(['cyan', 'indigo', 'seagreen', 'yellow', 'blue', 'darkorange'])\n",
    "    lw = 2\n",
    "\n",
    "    i = 0\n",
    "    #plt.figure(figsize=(15, 15))\n",
    "    for (train, test), color in zip(cv.split(X, y), colors):\n",
    "        probas_ = classifier.fit(X[train], y[train]).predict_proba(X[test])\n",
    "        fpr, tpr, thresholds = roc_curve(y[test], probas_[:, 1])\n",
    "        mean_tpr += interp(mean_fpr, fpr, tpr)\n",
    "        mean_tpr[0] = 0.0\n",
    "        roc_auc = auc(fpr, tpr)\n",
    "        #plt.plot(fpr, tpr, lw=lw, color=color,\n",
    "        #         label='ROC fold %d (area = %0.2f)' % (i, roc_auc))\n",
    "\n",
    "        i += 1\n",
    "    #plt.plot([0, 1], [0, 1], linestyle='--', lw=lw, color='k',\n",
    "    #         label='Luck')\n",
    "\n",
    "    mean_tpr /= cv.get_n_splits(X, y)\n",
    "    mean_tpr[-1] = 1.0\n",
    "    mean_auc = auc(mean_fpr, mean_tpr)\n",
    "    return mean_auc\n",
    "    '''plt.plot(mean_fpr, mean_tpr, color='g', linestyle='--',\n",
    "             label='Mean ROC (area = %0.2f)' % mean_auc, lw=lw)\n",
    "\n",
    "    plt.xlim([-0.05, 1.05])\n",
    "    plt.ylim([-0.05, 1.05])\n",
    "    plt.xlabel('False Positive Rate')\n",
    "    plt.ylabel('True Positive Rate')\n",
    "    plt.title('Receiver operating characteristic example')\n",
    "    plt.legend(loc=\"lower right\")\n",
    "    plt.show()'''"
   ]
  },
  {
   "cell_type": "markdown",
   "metadata": {
    "deletable": true,
    "editable": true
   },
   "source": [
    "Подбираем коэффициент $C$, максимизируя $ROC-AUC$ (метрика качества алгоритма классификации)."
   ]
  },
  {
   "cell_type": "code",
   "execution_count": 31,
   "metadata": {
    "collapsed": false,
    "deletable": true,
    "editable": true
   },
   "outputs": [
    {
     "name": "stdout",
     "output_type": "stream",
     "text": [
      "0.1 0.745978700258\n",
      "0.18 0.747780064086\n",
      "0.19 0.74779615291\n",
      "0.2 0.747747463532\n",
      "0.21 0.747651378613\n",
      "0.22 0.74760294144\n",
      "0.25 0.746684907701\n"
     ]
    }
   ],
   "source": [
    "for C in [0.1, 0.18, 0.19, 0.2, 0.21, 0.22, 0.25]:\n",
    "    model = LogisticRegression(penalty='l1', C=C, n_jobs=2, class_weight='balanced')\n",
    "    print(C, cross_val_roc_auc(model, matrix_words_form, y))"
   ]
  },
  {
   "cell_type": "markdown",
   "metadata": {
    "deletable": true,
    "editable": true
   },
   "source": [
    "Лучший результат для форм слова - $C=0.19$, $ROC-AUC=0.74780$"
   ]
  },
  {
   "cell_type": "code",
   "execution_count": 32,
   "metadata": {
    "collapsed": false,
    "deletable": true,
    "editable": true
   },
   "outputs": [
    {
     "name": "stdout",
     "output_type": "stream",
     "text": [
      "0.1 0.756653231266\n",
      "0.13 0.758059518402\n",
      "0.14 0.758095474946\n",
      "0.15 0.758127546829\n",
      "0.16 0.75829254606\n",
      "0.17 0.758155463469\n",
      "0.2 0.757828705935\n"
     ]
    }
   ],
   "source": [
    "for C in [0.1, 0.13, 0.14, 0.15, 0.16, 0.17, 0.2]:\n",
    "    model = LogisticRegression(penalty='l1', C=C, n_jobs=2, class_weight='balanced')\n",
    "    print(C, cross_val_roc_auc(model, matrix_words_lemma, y))"
   ]
  },
  {
   "cell_type": "markdown",
   "metadata": {
    "deletable": true,
    "editable": true
   },
   "source": [
    "Лучший результат для лемм слова - $C=0.16$, $ROC-AUC=0.75829$, то есть леммы лучше, чем формы слова"
   ]
  },
  {
   "cell_type": "code",
   "execution_count": 33,
   "metadata": {
    "collapsed": false,
    "deletable": true,
    "editable": true
   },
   "outputs": [
    {
     "name": "stdout",
     "output_type": "stream",
     "text": [
      "0.1 0.679542815189\n",
      "0.13 0.681131205203\n",
      "0.14 0.681279228305\n",
      "0.15 0.68083900189\n",
      "0.16 0.680458307122\n",
      "0.2 0.680590639391\n"
     ]
    }
   ],
   "source": [
    "for C in [0.1, 0.13, 0.14, 0.15, 0.16, 0.2]:\n",
    "    model = LogisticRegression(penalty='l1', C=C, n_jobs=2, class_weight='balanced')\n",
    "    print(C, cross_val_roc_auc(model, matrix_bigrams_form, y))"
   ]
  },
  {
   "cell_type": "markdown",
   "metadata": {
    "deletable": true,
    "editable": true
   },
   "source": [
    "Лучший результат для форм биграмм: $C=0.14$, $ROC-AUC=0.68128$, то есть биграмы гораздо хуже, чем слова"
   ]
  },
  {
   "cell_type": "code",
   "execution_count": 35,
   "metadata": {
    "collapsed": false,
    "deletable": true,
    "editable": true
   },
   "outputs": [
    {
     "name": "stdout",
     "output_type": "stream",
     "text": [
      "0.08 0.684871938054\n",
      "0.09 0.685754548699\n",
      "0.1 0.686717709852\n",
      "0.11 0.686467087105\n"
     ]
    }
   ],
   "source": [
    "for C in [0.08, 0.09, 0.1, 0.11]:\n",
    "    model = LogisticRegression(penalty='l1', C=C, n_jobs=2, class_weight='balanced')\n",
    "    print(C, cross_val_roc_auc(model, matrix_bigrams_lemma, y))"
   ]
  },
  {
   "cell_type": "markdown",
   "metadata": {
    "deletable": true,
    "editable": true
   },
   "source": [
    "Лучший результат для лемм биграмм: $C=0.1$, $ROC-AUC=0.68672$, то есть для биграмм тоже леммы лучше, чем формы"
   ]
  },
  {
   "cell_type": "code",
   "execution_count": 22,
   "metadata": {
    "collapsed": false,
    "deletable": true,
    "editable": true
   },
   "outputs": [
    {
     "name": "stdout",
     "output_type": "stream",
     "text": [
      "0.2 0.64924700943\n",
      "0.3 0.653093413473\n",
      "0.4 0.650396232896\n"
     ]
    }
   ],
   "source": [
    "for C in [0.2, 0.3, 0.4]:\n",
    "    model = LogisticRegression(penalty='l1', C=C, n_jobs=2, class_weight='balanced')\n",
    "    print(C, cross_val_roc_auc(model, matrix_bigrams_all_lemma, y))"
   ]
  },
  {
   "cell_type": "markdown",
   "metadata": {
    "deletable": true,
    "editable": true
   },
   "source": [
    "Лучший результат для биграмм из лемм и лемм: $C=0.3$, $ROC-AUC=0.65309$"
   ]
  },
  {
   "cell_type": "markdown",
   "metadata": {
    "deletable": true,
    "editable": true
   },
   "source": [
    "# 4) Запустим алгоритм на данных"
   ]
  },
  {
   "cell_type": "code",
   "execution_count": 11,
   "metadata": {
    "collapsed": false,
    "deletable": true,
    "editable": true
   },
   "outputs": [
    {
     "data": {
      "text/plain": [
       "LogisticRegression(C=0.19, class_weight='balanced', dual=False,\n",
       "          fit_intercept=True, intercept_scaling=1, max_iter=100,\n",
       "          multi_class='ovr', n_jobs=2, penalty='l1', random_state=None,\n",
       "          solver='liblinear', tol=0.0001, verbose=0, warm_start=False)"
      ]
     },
     "execution_count": 11,
     "metadata": {},
     "output_type": "execute_result"
    }
   ],
   "source": [
    "model_words_form = LogisticRegression(penalty='l1', C=0.19, n_jobs=2, class_weight='balanced')\n",
    "model_words_form.fit(matrix_words_form, y)"
   ]
  },
  {
   "cell_type": "code",
   "execution_count": 12,
   "metadata": {
    "collapsed": false,
    "deletable": true,
    "editable": true
   },
   "outputs": [
    {
     "data": {
      "text/plain": [
       "LogisticRegression(C=0.16, class_weight='balanced', dual=False,\n",
       "          fit_intercept=True, intercept_scaling=1, max_iter=100,\n",
       "          multi_class='ovr', n_jobs=2, penalty='l1', random_state=None,\n",
       "          solver='liblinear', tol=0.0001, verbose=0, warm_start=False)"
      ]
     },
     "execution_count": 12,
     "metadata": {},
     "output_type": "execute_result"
    }
   ],
   "source": [
    "model_words_lemma = LogisticRegression(penalty='l1', C=0.16, n_jobs=2, class_weight='balanced')\n",
    "model_words_lemma.fit(matrix_words_lemma, y)"
   ]
  },
  {
   "cell_type": "code",
   "execution_count": 13,
   "metadata": {
    "collapsed": false,
    "deletable": true,
    "editable": true
   },
   "outputs": [
    {
     "data": {
      "text/plain": [
       "LogisticRegression(C=0.14, class_weight='balanced', dual=False,\n",
       "          fit_intercept=True, intercept_scaling=1, max_iter=100,\n",
       "          multi_class='ovr', n_jobs=2, penalty='l1', random_state=None,\n",
       "          solver='liblinear', tol=0.0001, verbose=0, warm_start=False)"
      ]
     },
     "execution_count": 13,
     "metadata": {},
     "output_type": "execute_result"
    }
   ],
   "source": [
    "model_bigrams_form = LogisticRegression(penalty='l1', C=0.14, n_jobs=2, class_weight='balanced')\n",
    "model_bigrams_form.fit(matrix_bigrams_form, y)"
   ]
  },
  {
   "cell_type": "code",
   "execution_count": 18,
   "metadata": {
    "collapsed": false,
    "deletable": true,
    "editable": true
   },
   "outputs": [
    {
     "data": {
      "text/plain": [
       "LogisticRegression(C=0.1, class_weight='balanced', dual=False,\n",
       "          fit_intercept=True, intercept_scaling=1, max_iter=100,\n",
       "          multi_class='ovr', n_jobs=2, penalty='l1', random_state=None,\n",
       "          solver='liblinear', tol=0.0001, verbose=0, warm_start=False)"
      ]
     },
     "execution_count": 18,
     "metadata": {},
     "output_type": "execute_result"
    }
   ],
   "source": [
    "model_bigrams_lemma = LogisticRegression(penalty='l1', C=0.10, n_jobs=2, class_weight='balanced')\n",
    "model_bigrams_lemma.fit(matrix_bigrams_lemma, y)"
   ]
  },
  {
   "cell_type": "code",
   "execution_count": 19,
   "metadata": {
    "collapsed": false
   },
   "outputs": [
    {
     "data": {
      "text/plain": [
       "LogisticRegression(C=0.3, class_weight='balanced', dual=False,\n",
       "          fit_intercept=True, intercept_scaling=1, max_iter=100,\n",
       "          multi_class='ovr', n_jobs=2, penalty='l1', random_state=None,\n",
       "          solver='liblinear', tol=0.0001, verbose=0, warm_start=False)"
      ]
     },
     "execution_count": 19,
     "metadata": {},
     "output_type": "execute_result"
    }
   ],
   "source": [
    "model_bigrams_all_lemma = LogisticRegression(penalty='l1', C=0.30, n_jobs=2, class_weight='balanced')\n",
    "model_bigrams_all_lemma.fit(matrix_bigrams_all_lemma, y)"
   ]
  },
  {
   "cell_type": "markdown",
   "metadata": {
    "deletable": true,
    "editable": true
   },
   "source": [
    "# 5) Посчитаем веса признаков в каждом случае\n",
    "\n",
    "И статистику. Последние три числа - сколько раз встречается в положительных предложениях, отрицательных предложениях, и количество юзеров, упоминающих это."
   ]
  },
  {
   "cell_type": "code",
   "execution_count": 20,
   "metadata": {
    "collapsed": false,
    "deletable": true,
    "editable": true
   },
   "outputs": [],
   "source": [
    "weights_words_form = zip(model_words_form.coef_[0], list_words_form, stat_words_form[:,0], stat_words_form[:,1], stat_words_form[:, 2])\n",
    "weights_words_form = pd.DataFrame(sorted([(x[0], str(x[1:])) for x in weights_words_form], reverse=True))\n",
    "\n",
    "weights_words_lemma = zip(model_words_lemma.coef_[0], list_words_lemma, stat_words_lemma[:,0], stat_words_lemma[:,1], stat_words_lemma[:, 2])\n",
    "weights_words_lemma = pd.DataFrame(sorted([(x[0], str(x[1:])) for x in weights_words_lemma], reverse=True))\n",
    "\n",
    "weights_bigrams_form = zip(model_bigrams_form.coef_[0], list_bigrams_form, stat_bigrams_form[:,0], stat_bigrams_form[:,1], stat_bigrams_form[:, 2])\n",
    "weights_bigrams_form = pd.DataFrame(sorted([(x[0], str(x[1:])) for x in weights_bigrams_form], reverse=True))\n",
    "\n",
    "weights_bigrams_lemma = zip(model_bigrams_lemma.coef_[0], list_bigrams_lemma, stat_bigrams_lemma[:,0], stat_bigrams_lemma[:,1], stat_bigrams_lemma[:, 2])\n",
    "weights_bigrams_lemma = pd.DataFrame(sorted([(x[0], str(x[1:])) for x in weights_bigrams_lemma], reverse=True))\n",
    "\n",
    "weights_bigrams_all_lemma = zip(model_bigrams_all_lemma.coef_[0], list_bigrams_all_lemma, stat_bigrams_all_lemma[:,0], stat_bigrams_all_lemma[:,1], stat_bigrams_all_lemma[:, 2])\n",
    "weights_bigrams_all_lemma = pd.DataFrame(sorted([(x[0], str(x[1:])) for x in weights_bigrams_all_lemma], reverse=True))\n"
   ]
  },
  {
   "cell_type": "markdown",
   "metadata": {
    "deletable": true,
    "editable": true
   },
   "source": [
    "# 6) Помотрим на топы и антитопы получившихся данных"
   ]
  },
  {
   "cell_type": "code",
   "execution_count": 21,
   "metadata": {
    "collapsed": false,
    "deletable": true,
    "editable": true
   },
   "outputs": [
    {
     "data": {
      "text/html": [
       "<div>\n",
       "<table border=\"1\" class=\"dataframe\">\n",
       "  <thead>\n",
       "    <tr style=\"text-align: right;\">\n",
       "      <th></th>\n",
       "      <th>0</th>\n",
       "      <th>1</th>\n",
       "    </tr>\n",
       "  </thead>\n",
       "  <tbody>\n",
       "    <tr>\n",
       "      <th>0</th>\n",
       "      <td>2.930210</td>\n",
       "      <td>(('классная',), 249, 0, 228)</td>\n",
       "    </tr>\n",
       "    <tr>\n",
       "      <th>1</th>\n",
       "      <td>2.689702</td>\n",
       "      <td>(('красотка',), 644, 2, 541)</td>\n",
       "    </tr>\n",
       "    <tr>\n",
       "      <th>2</th>\n",
       "      <td>2.321647</td>\n",
       "      <td>(('молодец',), 333, 2, 303)</td>\n",
       "    </tr>\n",
       "    <tr>\n",
       "      <th>3</th>\n",
       "      <td>2.309099</td>\n",
       "      <td>(('красота',), 441, 3, 379)</td>\n",
       "    </tr>\n",
       "    <tr>\n",
       "      <th>4</th>\n",
       "      <td>2.300137</td>\n",
       "      <td>(('крутая',), 165, 1, 151)</td>\n",
       "    </tr>\n",
       "  </tbody>\n",
       "</table>\n",
       "</div>"
      ],
      "text/plain": [
       "          0                             1\n",
       "0  2.930210  (('классная',), 249, 0, 228)\n",
       "1  2.689702  (('красотка',), 644, 2, 541)\n",
       "2  2.321647   (('молодец',), 333, 2, 303)\n",
       "3  2.309099   (('красота',), 441, 3, 379)\n",
       "4  2.300137    (('крутая',), 165, 1, 151)"
      ]
     },
     "execution_count": 21,
     "metadata": {},
     "output_type": "execute_result"
    }
   ],
   "source": [
    "weights_words_form[:5]"
   ]
  },
  {
   "cell_type": "code",
   "execution_count": 22,
   "metadata": {
    "collapsed": false,
    "deletable": true,
    "editable": true
   },
   "outputs": [
    {
     "data": {
      "text/html": [
       "<div>\n",
       "<table border=\"1\" class=\"dataframe\">\n",
       "  <thead>\n",
       "    <tr style=\"text-align: right;\">\n",
       "      <th></th>\n",
       "      <th>0</th>\n",
       "      <th>1</th>\n",
       "    </tr>\n",
       "  </thead>\n",
       "  <tbody>\n",
       "    <tr>\n",
       "      <th>50657</th>\n",
       "      <td>-2.343322</td>\n",
       "      <td>(('жалко',), 22, 30, 46)</td>\n",
       "    </tr>\n",
       "    <tr>\n",
       "      <th>50658</th>\n",
       "      <td>-2.478386</td>\n",
       "      <td>(('ужас',), 19, 24, 41)</td>\n",
       "    </tr>\n",
       "    <tr>\n",
       "      <th>50659</th>\n",
       "      <td>-2.554006</td>\n",
       "      <td>(('скучаю',), 73, 58, 86)</td>\n",
       "    </tr>\n",
       "    <tr>\n",
       "      <th>50660</th>\n",
       "      <td>-2.751562</td>\n",
       "      <td>(('скучать',), 20, 22, 28)</td>\n",
       "    </tr>\n",
       "    <tr>\n",
       "      <th>50661</th>\n",
       "      <td>-2.851356</td>\n",
       "      <td>(('заболела',), 6, 12, 17)</td>\n",
       "    </tr>\n",
       "  </tbody>\n",
       "</table>\n",
       "</div>"
      ],
      "text/plain": [
       "              0                           1\n",
       "50657 -2.343322    (('жалко',), 22, 30, 46)\n",
       "50658 -2.478386     (('ужас',), 19, 24, 41)\n",
       "50659 -2.554006   (('скучаю',), 73, 58, 86)\n",
       "50660 -2.751562  (('скучать',), 20, 22, 28)\n",
       "50661 -2.851356  (('заболела',), 6, 12, 17)"
      ]
     },
     "execution_count": 22,
     "metadata": {},
     "output_type": "execute_result"
    }
   ],
   "source": [
    "weights_words_form[-5:]"
   ]
  },
  {
   "cell_type": "code",
   "execution_count": 23,
   "metadata": {
    "collapsed": false,
    "deletable": true,
    "editable": true
   },
   "outputs": [
    {
     "data": {
      "text/html": [
       "<div>\n",
       "<table border=\"1\" class=\"dataframe\">\n",
       "  <thead>\n",
       "    <tr style=\"text-align: right;\">\n",
       "      <th></th>\n",
       "      <th>0</th>\n",
       "      <th>1</th>\n",
       "    </tr>\n",
       "  </thead>\n",
       "  <tbody>\n",
       "    <tr>\n",
       "      <th>0</th>\n",
       "      <td>2.180110</td>\n",
       "      <td>(('красотка', 'NOUN'), 760, 6, 619)</td>\n",
       "    </tr>\n",
       "    <tr>\n",
       "      <th>1</th>\n",
       "      <td>2.080134</td>\n",
       "      <td>(('супер', 'ADJF'), 767, 5, 604)</td>\n",
       "    </tr>\n",
       "    <tr>\n",
       "      <th>2</th>\n",
       "      <td>2.064284</td>\n",
       "      <td>(('классный', 'ADJF'), 646, 6, 539)</td>\n",
       "    </tr>\n",
       "    <tr>\n",
       "      <th>3</th>\n",
       "      <td>1.820746</td>\n",
       "      <td>(('отличный', 'ADJF'), 289, 3, 207)</td>\n",
       "    </tr>\n",
       "    <tr>\n",
       "      <th>4</th>\n",
       "      <td>1.814252</td>\n",
       "      <td>(('клевый', 'ADJF'), 98, 0, 79)</td>\n",
       "    </tr>\n",
       "  </tbody>\n",
       "</table>\n",
       "</div>"
      ],
      "text/plain": [
       "          0                                    1\n",
       "0  2.180110  (('красотка', 'NOUN'), 760, 6, 619)\n",
       "1  2.080134     (('супер', 'ADJF'), 767, 5, 604)\n",
       "2  2.064284  (('классный', 'ADJF'), 646, 6, 539)\n",
       "3  1.820746  (('отличный', 'ADJF'), 289, 3, 207)\n",
       "4  1.814252      (('клевый', 'ADJF'), 98, 0, 79)"
      ]
     },
     "execution_count": 23,
     "metadata": {},
     "output_type": "execute_result"
    }
   ],
   "source": [
    "weights_words_lemma[:5]"
   ]
  },
  {
   "cell_type": "code",
   "execution_count": 24,
   "metadata": {
    "collapsed": false,
    "deletable": true,
    "editable": true
   },
   "outputs": [
    {
     "data": {
      "text/html": [
       "<div>\n",
       "<table border=\"1\" class=\"dataframe\">\n",
       "  <thead>\n",
       "    <tr style=\"text-align: right;\">\n",
       "      <th></th>\n",
       "      <th>0</th>\n",
       "      <th>1</th>\n",
       "    </tr>\n",
       "  </thead>\n",
       "  <tbody>\n",
       "    <tr>\n",
       "      <th>26873</th>\n",
       "      <td>-2.012344</td>\n",
       "      <td>(('лёша', 'NOUN'), 13, 6, 13)</td>\n",
       "    </tr>\n",
       "    <tr>\n",
       "      <th>26874</th>\n",
       "      <td>-2.120322</td>\n",
       "      <td>(('жаль', 'PRED'), 43, 43, 77)</td>\n",
       "    </tr>\n",
       "    <tr>\n",
       "      <th>26875</th>\n",
       "      <td>-2.185488</td>\n",
       "      <td>(('ужас', 'NOUN'), 33, 26, 52)</td>\n",
       "    </tr>\n",
       "    <tr>\n",
       "      <th>26876</th>\n",
       "      <td>-2.292022</td>\n",
       "      <td>(('скучать', 'VERB'), 137, 85, 129)</td>\n",
       "    </tr>\n",
       "    <tr>\n",
       "      <th>26877</th>\n",
       "      <td>-2.315690</td>\n",
       "      <td>(('жалко', 'ADVB'), 22, 30, 46)</td>\n",
       "    </tr>\n",
       "  </tbody>\n",
       "</table>\n",
       "</div>"
      ],
      "text/plain": [
       "              0                                    1\n",
       "26873 -2.012344        (('лёша', 'NOUN'), 13, 6, 13)\n",
       "26874 -2.120322       (('жаль', 'PRED'), 43, 43, 77)\n",
       "26875 -2.185488       (('ужас', 'NOUN'), 33, 26, 52)\n",
       "26876 -2.292022  (('скучать', 'VERB'), 137, 85, 129)\n",
       "26877 -2.315690      (('жалко', 'ADVB'), 22, 30, 46)"
      ]
     },
     "execution_count": 24,
     "metadata": {},
     "output_type": "execute_result"
    }
   ],
   "source": [
    "weights_words_lemma[-5:]"
   ]
  },
  {
   "cell_type": "code",
   "execution_count": 25,
   "metadata": {
    "collapsed": false,
    "deletable": true,
    "editable": true
   },
   "outputs": [
    {
     "data": {
      "text/html": [
       "<div>\n",
       "<table border=\"1\" class=\"dataframe\">\n",
       "  <thead>\n",
       "    <tr style=\"text-align: right;\">\n",
       "      <th></th>\n",
       "      <th>0</th>\n",
       "      <th>1</th>\n",
       "    </tr>\n",
       "  </thead>\n",
       "  <tbody>\n",
       "    <tr>\n",
       "      <th>0</th>\n",
       "      <td>1.962376</td>\n",
       "      <td>(('ADVB', 'рождения'), 540, 3, 439)</td>\n",
       "    </tr>\n",
       "    <tr>\n",
       "      <th>1</th>\n",
       "      <td>1.920046</td>\n",
       "      <td>(('NOUN', 'супер'), 161, 0, 143)</td>\n",
       "    </tr>\n",
       "    <tr>\n",
       "      <th>2</th>\n",
       "      <td>1.823550</td>\n",
       "      <td>(('супер', 'NOUN'), 178, 0, 142)</td>\n",
       "    </tr>\n",
       "    <tr>\n",
       "      <th>3</th>\n",
       "      <td>1.799118</td>\n",
       "      <td>(('спасибо', 'PREP'), 444, 5, 215)</td>\n",
       "    </tr>\n",
       "    <tr>\n",
       "      <th>4</th>\n",
       "      <td>1.793088</td>\n",
       "      <td>(('ADJF', 'девушка'), 149, 0, 125)</td>\n",
       "    </tr>\n",
       "  </tbody>\n",
       "</table>\n",
       "</div>"
      ],
      "text/plain": [
       "          0                                    1\n",
       "0  1.962376  (('ADVB', 'рождения'), 540, 3, 439)\n",
       "1  1.920046     (('NOUN', 'супер'), 161, 0, 143)\n",
       "2  1.823550     (('супер', 'NOUN'), 178, 0, 142)\n",
       "3  1.799118   (('спасибо', 'PREP'), 444, 5, 215)\n",
       "4  1.793088   (('ADJF', 'девушка'), 149, 0, 125)"
      ]
     },
     "execution_count": 25,
     "metadata": {},
     "output_type": "execute_result"
    }
   ],
   "source": [
    "weights_bigrams_form[:5]"
   ]
  },
  {
   "cell_type": "code",
   "execution_count": 26,
   "metadata": {
    "collapsed": false,
    "deletable": true,
    "editable": true
   },
   "outputs": [
    {
     "data": {
      "text/html": [
       "<div>\n",
       "<table border=\"1\" class=\"dataframe\">\n",
       "  <thead>\n",
       "    <tr style=\"text-align: right;\">\n",
       "      <th></th>\n",
       "      <th>0</th>\n",
       "      <th>1</th>\n",
       "    </tr>\n",
       "  </thead>\n",
       "  <tbody>\n",
       "    <tr>\n",
       "      <th>172884</th>\n",
       "      <td>-1.390189</td>\n",
       "      <td>(('бедная', 'NOUN'), 4, 5, 8)</td>\n",
       "    </tr>\n",
       "    <tr>\n",
       "      <th>172885</th>\n",
       "      <td>-1.417914</td>\n",
       "      <td>(('NOUN', 'плакать'), 3, 6, 3)</td>\n",
       "    </tr>\n",
       "    <tr>\n",
       "      <th>172886</th>\n",
       "      <td>-1.555725</td>\n",
       "      <td>(('скучаю', 'PREP'), 26, 23, 37)</td>\n",
       "    </tr>\n",
       "    <tr>\n",
       "      <th>172887</th>\n",
       "      <td>-1.784234</td>\n",
       "      <td>(('NOUN', 'жалко'), 2, 10, 11)</td>\n",
       "    </tr>\n",
       "    <tr>\n",
       "      <th>172888</th>\n",
       "      <td>-2.231088</td>\n",
       "      <td>(('жаль', 'CONJ'), 25, 27, 51)</td>\n",
       "    </tr>\n",
       "  </tbody>\n",
       "</table>\n",
       "</div>"
      ],
      "text/plain": [
       "               0                                 1\n",
       "172884 -1.390189     (('бедная', 'NOUN'), 4, 5, 8)\n",
       "172885 -1.417914    (('NOUN', 'плакать'), 3, 6, 3)\n",
       "172886 -1.555725  (('скучаю', 'PREP'), 26, 23, 37)\n",
       "172887 -1.784234    (('NOUN', 'жалко'), 2, 10, 11)\n",
       "172888 -2.231088    (('жаль', 'CONJ'), 25, 27, 51)"
      ]
     },
     "execution_count": 26,
     "metadata": {},
     "output_type": "execute_result"
    }
   ],
   "source": [
    "weights_bigrams_form[-5:]"
   ]
  },
  {
   "cell_type": "code",
   "execution_count": 27,
   "metadata": {
    "collapsed": false,
    "deletable": true,
    "editable": true
   },
   "outputs": [
    {
     "data": {
      "text/html": [
       "<div>\n",
       "<table border=\"1\" class=\"dataframe\">\n",
       "  <thead>\n",
       "    <tr style=\"text-align: right;\">\n",
       "      <th></th>\n",
       "      <th>0</th>\n",
       "      <th>1</th>\n",
       "    </tr>\n",
       "  </thead>\n",
       "  <tbody>\n",
       "    <tr>\n",
       "      <th>0</th>\n",
       "      <td>1.640950</td>\n",
       "      <td>((('спасибо', 'INTJ'), 'PREP'), 444, 5, 215)</td>\n",
       "    </tr>\n",
       "    <tr>\n",
       "      <th>1</th>\n",
       "      <td>1.585625</td>\n",
       "      <td>((('отличный', 'ADJF'), 'NOUN'), 236, 3, 176)</td>\n",
       "    </tr>\n",
       "    <tr>\n",
       "      <th>2</th>\n",
       "      <td>1.584459</td>\n",
       "      <td>(('NOUN', ('супер', 'ADJF')), 161, 0, 143)</td>\n",
       "    </tr>\n",
       "    <tr>\n",
       "      <th>3</th>\n",
       "      <td>1.513818</td>\n",
       "      <td>((('супер', 'ADJF'), 'NOUN'), 178, 0, 142)</td>\n",
       "    </tr>\n",
       "    <tr>\n",
       "      <th>4</th>\n",
       "      <td>1.458241</td>\n",
       "      <td>((('спасибо', 'INTJ'), 'NOUN'), 350, 5, 135)</td>\n",
       "    </tr>\n",
       "  </tbody>\n",
       "</table>\n",
       "</div>"
      ],
      "text/plain": [
       "          0                                              1\n",
       "0  1.640950   ((('спасибо', 'INTJ'), 'PREP'), 444, 5, 215)\n",
       "1  1.585625  ((('отличный', 'ADJF'), 'NOUN'), 236, 3, 176)\n",
       "2  1.584459     (('NOUN', ('супер', 'ADJF')), 161, 0, 143)\n",
       "3  1.513818     ((('супер', 'ADJF'), 'NOUN'), 178, 0, 142)\n",
       "4  1.458241   ((('спасибо', 'INTJ'), 'NOUN'), 350, 5, 135)"
      ]
     },
     "execution_count": 27,
     "metadata": {},
     "output_type": "execute_result"
    }
   ],
   "source": [
    "weights_bigrams_lemma[:5]"
   ]
  },
  {
   "cell_type": "code",
   "execution_count": 28,
   "metadata": {
    "collapsed": false,
    "deletable": true,
    "editable": true
   },
   "outputs": [
    {
     "data": {
      "text/html": [
       "<div>\n",
       "<table border=\"1\" class=\"dataframe\">\n",
       "  <thead>\n",
       "    <tr style=\"text-align: right;\">\n",
       "      <th></th>\n",
       "      <th>0</th>\n",
       "      <th>1</th>\n",
       "    </tr>\n",
       "  </thead>\n",
       "  <tbody>\n",
       "    <tr>\n",
       "      <th>111656</th>\n",
       "      <td>-1.239040</td>\n",
       "      <td>((('где', 'ADVB'), 'ADJF'), 34, 11, 39)</td>\n",
       "    </tr>\n",
       "    <tr>\n",
       "      <th>111657</th>\n",
       "      <td>-1.344383</td>\n",
       "      <td>((('скучать', 'VERB'), 'PREP'), 48, 35, 53)</td>\n",
       "    </tr>\n",
       "    <tr>\n",
       "      <th>111658</th>\n",
       "      <td>-1.479731</td>\n",
       "      <td>((('бедный', 'ADJF'), 'NOUN'), 18, 12, 26)</td>\n",
       "    </tr>\n",
       "    <tr>\n",
       "      <th>111659</th>\n",
       "      <td>-1.771428</td>\n",
       "      <td>((('жаль', 'PRED'), 'CONJ'), 25, 27, 51)</td>\n",
       "    </tr>\n",
       "    <tr>\n",
       "      <th>111660</th>\n",
       "      <td>-1.819844</td>\n",
       "      <td>(('NOUN', ('жалко', 'ADVB')), 2, 10, 11)</td>\n",
       "    </tr>\n",
       "  </tbody>\n",
       "</table>\n",
       "</div>"
      ],
      "text/plain": [
       "               0                                            1\n",
       "111656 -1.239040      ((('где', 'ADVB'), 'ADJF'), 34, 11, 39)\n",
       "111657 -1.344383  ((('скучать', 'VERB'), 'PREP'), 48, 35, 53)\n",
       "111658 -1.479731   ((('бедный', 'ADJF'), 'NOUN'), 18, 12, 26)\n",
       "111659 -1.771428     ((('жаль', 'PRED'), 'CONJ'), 25, 27, 51)\n",
       "111660 -1.819844     (('NOUN', ('жалко', 'ADVB')), 2, 10, 11)"
      ]
     },
     "execution_count": 28,
     "metadata": {},
     "output_type": "execute_result"
    }
   ],
   "source": [
    "weights_bigrams_lemma[-5:]"
   ]
  },
  {
   "cell_type": "code",
   "execution_count": 30,
   "metadata": {
    "collapsed": false
   },
   "outputs": [
    {
     "data": {
      "text/html": [
       "<div>\n",
       "<table border=\"1\" class=\"dataframe\">\n",
       "  <thead>\n",
       "    <tr style=\"text-align: right;\">\n",
       "      <th></th>\n",
       "      <th>0</th>\n",
       "      <th>1</th>\n",
       "    </tr>\n",
       "  </thead>\n",
       "  <tbody>\n",
       "    <tr>\n",
       "      <th>0</th>\n",
       "      <td>2.738311</td>\n",
       "      <td>((('для', 'PREP'), ('вы', 'NPRO')), 101, 0, 33)</td>\n",
       "    </tr>\n",
       "    <tr>\n",
       "      <th>1</th>\n",
       "      <td>2.385554</td>\n",
       "      <td>((('спасибо', 'INTJ'), ('за', 'PREP')), 425, 5...</td>\n",
       "    </tr>\n",
       "    <tr>\n",
       "      <th>2</th>\n",
       "      <td>2.226280</td>\n",
       "      <td>((('хотеть', 'VERB'), ('чтоб', 'CONJ')), 16, 0...</td>\n",
       "    </tr>\n",
       "    <tr>\n",
       "      <th>3</th>\n",
       "      <td>2.179971</td>\n",
       "      <td>((('очень', 'ADVB'), ('идти', 'VERB')), 103, 0...</td>\n",
       "    </tr>\n",
       "    <tr>\n",
       "      <th>4</th>\n",
       "      <td>2.149074</td>\n",
       "      <td>((('как', 'CONJ'), ('красиво', 'ADVB')), 87, 0...</td>\n",
       "    </tr>\n",
       "  </tbody>\n",
       "</table>\n",
       "</div>"
      ],
      "text/plain": [
       "          0                                                  1\n",
       "0  2.738311    ((('для', 'PREP'), ('вы', 'NPRO')), 101, 0, 33)\n",
       "1  2.385554  ((('спасибо', 'INTJ'), ('за', 'PREP')), 425, 5...\n",
       "2  2.226280  ((('хотеть', 'VERB'), ('чтоб', 'CONJ')), 16, 0...\n",
       "3  2.179971  ((('очень', 'ADVB'), ('идти', 'VERB')), 103, 0...\n",
       "4  2.149074  ((('как', 'CONJ'), ('красиво', 'ADVB')), 87, 0..."
      ]
     },
     "execution_count": 30,
     "metadata": {},
     "output_type": "execute_result"
    }
   ],
   "source": [
    "weights_bigrams_all_lemma[:5]"
   ]
  },
  {
   "cell_type": "code",
   "execution_count": 31,
   "metadata": {
    "collapsed": false
   },
   "outputs": [
    {
     "data": {
      "text/html": [
       "<div>\n",
       "<table border=\"1\" class=\"dataframe\">\n",
       "  <thead>\n",
       "    <tr style=\"text-align: right;\">\n",
       "      <th></th>\n",
       "      <th>0</th>\n",
       "      <th>1</th>\n",
       "    </tr>\n",
       "  </thead>\n",
       "  <tbody>\n",
       "    <tr>\n",
       "      <th>186988</th>\n",
       "      <td>-2.550515</td>\n",
       "      <td>((('платье', 'NOUN'), ('но', 'CONJ')), 0, 5, 5)</td>\n",
       "    </tr>\n",
       "    <tr>\n",
       "      <th>186989</th>\n",
       "      <td>-2.602826</td>\n",
       "      <td>((('жаль', 'PRED'), ('что', 'CONJ')), 24, 27, 50)</td>\n",
       "    </tr>\n",
       "    <tr>\n",
       "      <th>186990</th>\n",
       "      <td>-2.875362</td>\n",
       "      <td>((('сегодня', 'ADVB'), ('бы', 'PRCL')), 0, 2, 1)</td>\n",
       "    </tr>\n",
       "    <tr>\n",
       "      <th>186991</th>\n",
       "      <td>-3.023424</td>\n",
       "      <td>((('признаваться', 'VERB'), ('у', 'PREP')), 0,...</td>\n",
       "    </tr>\n",
       "    <tr>\n",
       "      <th>186992</th>\n",
       "      <td>-3.405040</td>\n",
       "      <td>((('ангел', 'NOUN'), ('с', 'PREP')), 1, 1, 2)</td>\n",
       "    </tr>\n",
       "  </tbody>\n",
       "</table>\n",
       "</div>"
      ],
      "text/plain": [
       "               0                                                  1\n",
       "186988 -2.550515    ((('платье', 'NOUN'), ('но', 'CONJ')), 0, 5, 5)\n",
       "186989 -2.602826  ((('жаль', 'PRED'), ('что', 'CONJ')), 24, 27, 50)\n",
       "186990 -2.875362   ((('сегодня', 'ADVB'), ('бы', 'PRCL')), 0, 2, 1)\n",
       "186991 -3.023424  ((('признаваться', 'VERB'), ('у', 'PREP')), 0,...\n",
       "186992 -3.405040      ((('ангел', 'NOUN'), ('с', 'PREP')), 1, 1, 2)"
      ]
     },
     "execution_count": 31,
     "metadata": {},
     "output_type": "execute_result"
    }
   ],
   "source": [
    "weights_bigrams_all_lemma[-5:]"
   ]
  },
  {
   "cell_type": "markdown",
   "metadata": {
    "deletable": true,
    "editable": true
   },
   "source": [
    "# 7) Запишем результаты"
   ]
  },
  {
   "cell_type": "code",
   "execution_count": 32,
   "metadata": {
    "collapsed": true,
    "deletable": true,
    "editable": true
   },
   "outputs": [],
   "source": [
    "weights_words_form.to_csv(\"words_form_data.txt\", sep=',', index=False)\n",
    "weights_words_lemma.to_csv(\"words_lemma_data.txt\", sep=',', index=False)\n",
    "weights_bigrams_form.to_csv(\"bigrams_form_data.txt\", sep=',', index=False)\n",
    "weights_bigrams_lemma.to_csv(\"bigrams_lemma_data.txt\", sep=',', index=False)\n",
    "weights_bigrams_all_lemma.to_csv(\"bigrams_lemma_all_data.txt\", sep=',', index=False)"
   ]
  }
 ],
 "metadata": {
  "kernelspec": {
   "display_name": "Python 3",
   "language": "python",
   "name": "python3"
  },
  "language_info": {
   "codemirror_mode": {
    "name": "ipython",
    "version": 3
   },
   "file_extension": ".py",
   "mimetype": "text/x-python",
   "name": "python",
   "nbconvert_exporter": "python",
   "pygments_lexer": "ipython3",
   "version": "3.5.2"
  }
 },
 "nbformat": 4,
 "nbformat_minor": 2
}
